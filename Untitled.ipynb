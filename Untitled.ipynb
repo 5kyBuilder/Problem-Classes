{
 "cells": [
  {
   "cell_type": "code",
   "execution_count": null,
   "id": "732d0acc",
   "metadata": {},
   "outputs": [],
   "source": [
    "from ipywidgets import widgets\n",
    "from tkinter import Tk, filedialog\n",
    "import pandas as ps\n",
    "import matplotlib.pyplot as pyp\n",
    "from IPython.display import display, clear_output\n",
    "\n",
    "graphType = [\"Choose one...\", \"line\", \"bar\"]\n",
    "operationType = [\"Choose...\", \"mean\", \"max\", \"min\", \"sum\", \"count\"]\n",
    "\n",
    "df = \"\"\n",
    "new_df = \"\"\n",
    "\n",
    "def get_widgets():\n",
    "    global new_df\n",
    "    xlabel_widget = widgets.Dropdown(options=new_df.columns)\n",
    "    ylabel_widget = widgets.Dropdown(options=new_df.columns)\n",
    "    graph_widget = widgets.Dropdown(options=graphTypes)\n",
    "    graph = widgets.interactives(display_plot, xaxis=xlabel_widget, yaxis=ylabel_widget, graph_type=graph_widget)\n",
    "    \n",
    "    display(graph)\n",
    "\n",
    "def select_files(b):\n",
    "    clear_output()\n",
    "    global df\n",
    "    root = Tk()\n",
    "    root.withdraw()\n",
    "    file_name = filedialog.askopenfilename()\n",
    "    df = ps.read_csv(file_name)\n",
    "    print(file_name)\n",
    "    \n",
    "    df.replace(\"\", float('nan'), inplace=True)\n",
    "    df.replace(\"0\", float('nan'), inplace=True)\n",
    "    df = df.dropna()\n",
    "    \n",
    "    groupby_col = widgets.Dropdown(options=df.columns)\n",
    "    operationsby_col = widgets.Dropdown(options=df.columns)\n",
    "    operations_wid = widgets.Dropdown(options=operationType)\n",
    "    \n",
    "    groupby_int = widgets.interactives(groupby_dataframe, groupby_columns=groupby_col, operation_column=operationsby_col,\n",
    "                                       operation=operations_wid)\n",
    "    display(groupby_int)\n",
    "    \n",
    "def groupby_dataframe(groupby_columns, operation_column, operation):\n",
    "    print(\"nice\")\n",
    "    \n",
    "fileSelect = widgets.Button(description=\"Select a file\")\n",
    "fileSelect.on_click(select_files)\n",
    "display(fileSelect)"
   ]
  },
  {
   "cell_type": "code",
   "execution_count": null,
   "id": "dcc2d91a",
   "metadata": {},
   "outputs": [],
   "source": []
  }
 ],
 "metadata": {
  "kernelspec": {
   "display_name": "Python 3 (ipykernel)",
   "language": "python",
   "name": "python3"
  },
  "language_info": {
   "codemirror_mode": {
    "name": "ipython",
    "version": 3
   },
   "file_extension": ".py",
   "mimetype": "text/x-python",
   "name": "python",
   "nbconvert_exporter": "python",
   "pygments_lexer": "ipython3",
   "version": "3.11.9"
  }
 },
 "nbformat": 4,
 "nbformat_minor": 5
}
